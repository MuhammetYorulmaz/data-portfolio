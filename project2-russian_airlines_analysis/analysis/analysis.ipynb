{
 "cells": [
  {
   "cell_type": "code",
   "execution_count": 1,
   "metadata": {},
   "outputs": [],
   "source": [
    "import pandas as pd\n",
    "import seaborn as sns\n",
    "from scipy import stats\n",
    "import matplotlib.pyplot as plt\n",
    "from connect import connect_sqlalchemy\n",
    "from config import load_config"
   ]
  },
  {
   "cell_type": "code",
   "execution_count": 2,
   "metadata": {},
   "outputs": [
    {
     "name": "stdout",
     "output_type": "stream",
     "text": [
      "Connected to PostgreSQL using SQLAlchemy.\n"
     ]
    }
   ],
   "source": [
    "config = load_config()\n",
    "engine = connect_sqlalchemy(config)"
   ]
  },
  {
   "cell_type": "code",
   "execution_count": 3,
   "metadata": {},
   "outputs": [],
   "source": [
    "query = \"\"\"WITH UNION_FLIGHTS AS\n",
    "(SELECT FLIGHT_ID,\n",
    "\t\tDEPARTURE_AIRPORT AS AIRPORT_CODE,\n",
    "\t\tACTUAL_DEPARTURE AS DATE_OF_FLIGHT_IN_AIRPORT\n",
    "\tFROM FLIGHTS\n",
    "\tWHERE ACTUAL_DEPARTURE IS NOT NULL\n",
    "\tUNION SELECT FLIGHT_ID,\n",
    "\t\tARRIVAL_AIRPORT AS AIRPORT_CODE,\n",
    "\t\tACTUAL_ARRIVAL AS DATE_OF_FLIGHT_IN_AIRPORT\n",
    "\tFROM FLIGHTS\n",
    "\tWHERE ACTUAL_ARRIVAL IS NOT NULL )\n",
    "SELECT AD.AIRPORT_NAME ->> 'en' AS AIRPORT_NAME,\n",
    "\tTO_CHAR(UF.DATE_OF_FLIGHT_IN_AIRPORT,'Day') AS DAY_NAME,\n",
    "\tCOUNT(*) AS COUNT_FLIGHTS\n",
    "FROM UNION_FLIGHTS UF\n",
    "JOIN AIRPORTS_DATA AD ON UF.AIRPORT_CODE = AD.AIRPORT_CODE\n",
    "WHERE UF.DATE_OF_FLIGHT_IN_AIRPORT <\n",
    "\t\t(SELECT MIN(DATE_OF_FLIGHT_IN_AIRPORT)\n",
    "\t\t\tFROM UNION_FLIGHTS) + INTERVAL '1 year'\n",
    "GROUP BY AD.AIRPORT_NAME,\n",
    "\tTO_CHAR(UF.DATE_OF_FLIGHT_IN_AIRPORT, 'Day')\n",
    "ORDER BY AD.AIRPORT_NAME,\n",
    "CASE TRIM(TO_CHAR(UF.DATE_OF_FLIGHT_IN_AIRPORT, 'Day'))\n",
    "\tWHEN 'Monday' THEN 1\n",
    "\tWHEN 'Tuesday' THEN 2\n",
    "\tWHEN 'Wednesday' THEN 3\n",
    "\tWHEN 'Thursday' THEN 4\n",
    "\tWHEN 'Friday' THEN 5\n",
    "\tWHEN 'Saturday' THEN 6\n",
    "\tELSE 7\n",
    "END;\"\"\""
   ]
  },
  {
   "cell_type": "code",
   "execution_count": 4,
   "metadata": {},
   "outputs": [
    {
     "data": {
      "text/html": [
       "<div>\n",
       "<style scoped>\n",
       "    .dataframe tbody tr th:only-of-type {\n",
       "        vertical-align: middle;\n",
       "    }\n",
       "\n",
       "    .dataframe tbody tr th {\n",
       "        vertical-align: top;\n",
       "    }\n",
       "\n",
       "    .dataframe thead th {\n",
       "        text-align: right;\n",
       "    }\n",
       "</style>\n",
       "<table border=\"1\" class=\"dataframe\">\n",
       "  <thead>\n",
       "    <tr style=\"text-align: right;\">\n",
       "      <th></th>\n",
       "      <th>airport_name</th>\n",
       "      <th>day_name</th>\n",
       "      <th>count_flights</th>\n",
       "    </tr>\n",
       "  </thead>\n",
       "  <tbody>\n",
       "    <tr>\n",
       "      <th>0</th>\n",
       "      <td>Abakan Airport</td>\n",
       "      <td>Monday</td>\n",
       "      <td>371</td>\n",
       "    </tr>\n",
       "    <tr>\n",
       "      <th>1</th>\n",
       "      <td>Abakan Airport</td>\n",
       "      <td>Tuesday</td>\n",
       "      <td>468</td>\n",
       "    </tr>\n",
       "    <tr>\n",
       "      <th>2</th>\n",
       "      <td>Abakan Airport</td>\n",
       "      <td>Wednesday</td>\n",
       "      <td>416</td>\n",
       "    </tr>\n",
       "    <tr>\n",
       "      <th>3</th>\n",
       "      <td>Abakan Airport</td>\n",
       "      <td>Thursday</td>\n",
       "      <td>364</td>\n",
       "    </tr>\n",
       "    <tr>\n",
       "      <th>4</th>\n",
       "      <td>Abakan Airport</td>\n",
       "      <td>Friday</td>\n",
       "      <td>312</td>\n",
       "    </tr>\n",
       "  </tbody>\n",
       "</table>\n",
       "</div>"
      ],
      "text/plain": [
       "     airport_name   day_name  count_flights\n",
       "0  Abakan Airport  Monday               371\n",
       "1  Abakan Airport  Tuesday              468\n",
       "2  Abakan Airport  Wednesday            416\n",
       "3  Abakan Airport  Thursday             364\n",
       "4  Abakan Airport  Friday               312"
      ]
     },
     "execution_count": 4,
     "metadata": {},
     "output_type": "execute_result"
    }
   ],
   "source": [
    "# Fetch data into a DataFrame \n",
    "if engine:\n",
    "    df = pd.read_sql(query, engine)\n",
    "\n",
    "df.head()"
   ]
  },
  {
   "cell_type": "code",
   "execution_count": null,
   "metadata": {},
   "outputs": [],
   "source": []
  }
 ],
 "metadata": {
  "kernelspec": {
   "display_name": "base",
   "language": "python",
   "name": "python3"
  },
  "language_info": {
   "codemirror_mode": {
    "name": "ipython",
    "version": 3
   },
   "file_extension": ".py",
   "mimetype": "text/x-python",
   "name": "python",
   "nbconvert_exporter": "python",
   "pygments_lexer": "ipython3",
   "version": "3.12.4"
  }
 },
 "nbformat": 4,
 "nbformat_minor": 2
}
